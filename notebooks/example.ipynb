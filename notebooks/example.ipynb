{
 "cells": [
  {
   "cell_type": "code",
   "execution_count": 2,
   "metadata": {},
   "outputs": [],
   "source": [
    "import six\n",
    "from abc import ABCMeta"
   ]
  },
  {
   "cell_type": "code",
   "execution_count": 3,
   "metadata": {},
   "outputs": [],
   "source": [
    "@six.add_metaclass(ABCMeta)\n",
    "class AbstractQuery(object):\n",
    "    def __init__(self, template):\n",
    "        self.template = template\n",
    "        self.keys = set(re.findall('\\{(.*?)\\}', template))\n",
    "        \n",
    "    def __call__(self, *args, **kwargs):\n",
    "        if set(kwargs.keys()) != self.keys:\n",
    "            raise Exception(f'Invalid number of parameters: {kwargs.keys()}')\n",
    "        return self.template.format(*args, **kwargs)\n",
    "    \n",
    "class Query1(AbstractQuery):\n",
    "    def __init__(self):\n",
    "        template = 'Date: {date}, Tilde date: {tilde_date}'\n",
    "        super(Query1, self).__init__(template)\n",
    "        \n",
    "    def __call__(self, date):\n",
    "        params = {\n",
    "            'date': date,\n",
    "            'tilde_date': date.replace('/', '~'),\n",
    "        }\n",
    "        return super(Query1, self)(**params)\n",
    "    \n",
    "class Query2(AbstractQuery):\n",
    "    def __init__(self):\n",
    "        template = 'Date: {date} | {tilde_date}'\n",
    "        super(Query2, self).__init__(template)\n",
    "        \n",
    "    def __call__(self, date):\n",
    "        params = {\n",
    "            'date': date,\n",
    "            'tilde_date': date.replace('/', '-'),\n",
    "        }\n",
    "        return super(Query2, self)(**params)"
   ]
  },
  {
   "cell_type": "code",
   "execution_count": null,
   "metadata": {},
   "outputs": [],
   "source": []
  },
  {
   "cell_type": "code",
   "execution_count": null,
   "metadata": {},
   "outputs": [],
   "source": []
  },
  {
   "cell_type": "code",
   "execution_count": null,
   "metadata": {},
   "outputs": [],
   "source": []
  },
  {
   "cell_type": "code",
   "execution_count": null,
   "metadata": {},
   "outputs": [],
   "source": []
  },
  {
   "cell_type": "code",
   "execution_count": 4,
   "metadata": {},
   "outputs": [],
   "source": [
    "@six.add_metaclass(ABCMeta)\n",
    "class AbstractRequester(object):\n",
    "    def __init__(self, query, *args, **kwargs):\n",
    "        self.args = args\n",
    "        self.kwargs = kwargs\n",
    "        self.query = query\n",
    "        self.reponse = None\n",
    "    \n",
    "    def request(self, session, verbose):\n",
    "        if verbose:\n",
    "            print('Requesting ...')\n",
    "        self.reponse = self.query(*self.args, **self.kwargs)\n",
    "\n",
    "    def get_response(self):\n",
    "        return self.response\n",
    "    \n",
    "class ListRequester(AbstractRequester):\n",
    "    def __init__(self, requesters):\n",
    "        self.requesters = requesters\n",
    "        \n",
    "    def request(self, )\n",
    "    \n",
    "class Query1Requester(AbstractRequester):\n",
    "    def __init__(self, date):\n",
    "        super(Query1Request, self).__init__(Query1(), date = date)"
   ]
  },
  {
   "cell_type": "code",
   "execution_count": null,
   "metadata": {},
   "outputs": [],
   "source": [
    "class RequestQuery1(RequestQuery):"
   ]
  },
  {
   "cell_type": "code",
   "execution_count": null,
   "metadata": {},
   "outputs": [],
   "source": []
  },
  {
   "cell_type": "code",
   "execution_count": null,
   "metadata": {},
   "outputs": [],
   "source": []
  },
  {
   "cell_type": "code",
   "execution_count": null,
   "metadata": {},
   "outputs": [],
   "source": []
  },
  {
   "cell_type": "code",
   "execution_count": null,
   "metadata": {},
   "outputs": [],
   "source": []
  },
  {
   "cell_type": "code",
   "execution_count": null,
   "metadata": {},
   "outputs": [],
   "source": [
    "def get_session():\n",
    "    return 'the createad session'\n",
    "\n",
    "def request(session, query):\n",
    "    print(f'Request \"{query}\" on {session}')"
   ]
  },
  {
   "cell_type": "code",
   "execution_count": null,
   "metadata": {},
   "outputs": [],
   "source": [
    "import re\n",
    "\n",
    "class Query(object):\n",
    "    def __init__(self, template):\n",
    "        self.template = template\n",
    "        self.keys = set(re.findall('\\{(.*?)\\}', template))\n",
    "        \n",
    "    def __call__(self, *args, **kwargs):\n",
    "        if set(kwargs.keys()) != self.keys:\n",
    "            raise Exception(f'Invalid number of parameters: {kwargs.keys()}')\n",
    "        return self.template.format(*args, **kwargs)\n",
    "    \n",
    "class ListExtracter(object):\n",
    "    def __init__(self, builder):\n",
    "        self.__builder = builder\n",
    "        \n",
    "    def extract(self, params):\n",
    "        with get_session() as session:\n",
    "            for param in params:\n",
    "                query = self.__builder.query()(*self.__builder.args(), **self.__builder.args())\n",
    "                request(session, query)\n",
    "    \n",
    "class QueryBuilder(object):\n",
    "    def query(self): pass\n",
    "    def args(self): pass\n",
    "    def kwargs(self): pass\n",
    "    \n",
    "class Query1(Query):\n",
    "    def __init__(self):\n",
    "        template = 'Date: {date}, Tilde date: {tilde_date}'\n",
    "        super(Query1, self).__init__(template)\n",
    "        \n",
    "    def __call__(self, date):\n",
    "        params = {\n",
    "            'date': date,\n",
    "            'tilde_date': date.replace('/', '~'),\n",
    "        }\n",
    "        return super(Query1, self)(**params)\n",
    "    \n",
    "class Query2(Query):\n",
    "    def __init__(self):\n",
    "        template = 'Date: {date} | {tilde_date}'\n",
    "        super(Query2, self).__init__(template)\n",
    "        \n",
    "    def __call__(self, date):\n",
    "        params = {\n",
    "            'date': date,\n",
    "            'tilde_date': date.replace('/', '-'),\n",
    "        }\n",
    "        return super(Query2, self)(**params)"
   ]
  },
  {
   "cell_type": "code",
   "execution_count": null,
   "metadata": {},
   "outputs": [],
   "source": [
    "dates = [\n",
    "    '31/01/2019',\n",
    "    '28/02/2019',\n",
    "    '31/03/2019',\n",
    "    '30/04/2019',\n",
    "    '31/05/2019',\n",
    "    '30/06/2019',\n",
    "    '31/07/2019',\n",
    "    '31/08/2019',\n",
    "]"
   ]
  },
  {
   "cell_type": "code",
   "execution_count": null,
   "metadata": {},
   "outputs": [],
   "source": []
  },
  {
   "cell_type": "code",
   "execution_count": null,
   "metadata": {},
   "outputs": [],
   "source": []
  }
 ],
 "metadata": {
  "kernelspec": {
   "display_name": "Python 3",
   "language": "python",
   "name": "python3"
  },
  "language_info": {
   "codemirror_mode": {
    "name": "ipython",
    "version": 3
   },
   "file_extension": ".py",
   "mimetype": "text/x-python",
   "name": "python",
   "nbconvert_exporter": "python",
   "pygments_lexer": "ipython3",
   "version": "3.7.3"
  }
 },
 "nbformat": 4,
 "nbformat_minor": 4
}
