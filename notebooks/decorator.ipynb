{
 "cells": [
  {
   "cell_type": "markdown",
   "metadata": {},
   "source": [
    "# The Gamma's Decorator design pattern coded in *python*"
   ]
  },
  {
   "cell_type": "code",
   "execution_count": null,
   "metadata": {},
   "outputs": [],
   "source": [
    "import six\n",
    "from abc import ABCMeta\n",
    "\n",
    "@six.add_metaclass(ABCMeta)\n",
    "class Abstract_Coffee(object):\n",
    "    def get_cost(self): \n",
    "        pass\n",
    "    \n",
    "    def get_ingredients(self): \n",
    "        pass\n",
    "    \n",
    "    def get_tax(self):\n",
    "        return 0.1 * self.get_cost()\n",
    "\n",
    "class Concrete_Coffee(Abstract_Coffee):\n",
    "    def get_cost(self):\n",
    "        return 1.00\n",
    "   \n",
    "    def get_ingredients(self):\n",
    "        return 'coffee'\n",
    "\n",
    "@six.add_metaclass(ABCMeta)\n",
    "class Abstract_Coffee_Decorator(Abstract_Coffee):\n",
    "    def __init__(self,decorated_coffee):\n",
    "        self.decorated_coffee = decorated_coffee\n",
    "\n",
    "    def get_cost(self):\n",
    "        return self.decorated_coffee.get_cost()\n",
    "\n",
    "    def get_ingredients(self):\n",
    "        return self.decorated_coffee.get_ingredients()\n",
    "\n",
    "class Sugar(Abstract_Coffee_Decorator):\n",
    "    def __init__(self,decorated_coffee):\n",
    "        Abstract_Coffee_Decorator.__init__(self,decorated_coffee)\n",
    "\n",
    "    def get_cost(self):\n",
    "        return self.decorated_coffee.get_cost()\n",
    "\n",
    "    def get_ingredients(self):\n",
    "        return self.decorated_coffee.get_ingredients() + ', sugar'\n",
    "\n",
    "class Milk(Abstract_Coffee_Decorator):\n",
    "    def __init__(self,decorated_coffee):\n",
    "        Abstract_Coffee_Decorator.__init__(self,decorated_coffee)\n",
    "\n",
    "    def get_cost(self):\n",
    "        return self.decorated_coffee.get_cost() + 0.25\n",
    "\n",
    "    def get_ingredients(self):\n",
    "        return self.decorated_coffee.get_ingredients() + ', milk'\n",
    "\n",
    "class Vanilla(Abstract_Coffee_Decorator):\n",
    "    def __init__(self,decorated_coffee):\n",
    "        Abstract_Coffee_Decorator.__init__(self,decorated_coffee)\n",
    "\n",
    "    def get_cost(self):\n",
    "        return self.decorated_coffee.get_cost() + 0.75\n",
    "\n",
    "    def get_ingredients(self):\n",
    "        return self.decorated_coffee.get_ingredients() + ', vanilla'"
   ]
  },
  {
   "cell_type": "code",
   "execution_count": null,
   "metadata": {},
   "outputs": [],
   "source": []
  },
  {
   "cell_type": "code",
   "execution_count": null,
   "metadata": {},
   "outputs": [],
   "source": []
  },
  {
   "cell_type": "code",
   "execution_count": null,
   "metadata": {},
   "outputs": [],
   "source": []
  },
  {
   "cell_type": "code",
   "execution_count": null,
   "metadata": {},
   "outputs": [],
   "source": []
  }
 ],
 "metadata": {
  "kernelspec": {
   "display_name": "Python 3",
   "language": "python",
   "name": "python3"
  },
  "language_info": {
   "codemirror_mode": {
    "name": "ipython",
    "version": 3
   },
   "file_extension": ".py",
   "mimetype": "text/x-python",
   "name": "python",
   "nbconvert_exporter": "python",
   "pygments_lexer": "ipython3",
   "version": "3.7.3"
  }
 },
 "nbformat": 4,
 "nbformat_minor": 4
}
